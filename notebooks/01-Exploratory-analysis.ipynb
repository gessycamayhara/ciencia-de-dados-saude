{
 "cells": [
  {
   "cell_type": "markdown",
   "metadata": {
    "id": "kjKRSsWb9s3p"
   },
   "source": [
    "# Ciência de Dados na Saúde: Criando Modelos para Predição do Câncer\n",
    "\n",
    "**Professora:** Profa. Isadora Garcia Ferrão\n",
    "📧 isadoraferrao@usp.br\n",
    "🌐 [linkedin](https://www.linkedin.com/in/isadora-ferrao/)\n",
    "🔗 [Instagram](https://www.instagram.com/isadora.ferrao/)"
   ]
  },
  {
   "cell_type": "markdown",
   "metadata": {
    "id": "vJBH-Hwjcrah"
   },
   "source": [
    "## # Case: Classificação de Câncer por meio de microRNA"
   ]
  },
  {
   "cell_type": "markdown",
   "metadata": {
    "id": "4H73tAiIeHoY"
   },
   "source": [
    "**Descrição dos Dados:** Os dados foram coletados do [The Cancer Genome Atlas]() (TCGA), que é um programa internacional e de referência mundial de caracterização de mais de 33 tipos de câncer. Os dados são reais e foram devidamente anonimizados. Cada linha representa a amostra retirada de uma pessoa. As colunas são os tipos de microRNA e cada entrada representa a intensidade com que aquele microRNA está expresso. Os valores de expressão variam entre $[0, \\infty]$. Valores próximos a zero indicam pouca expressão enquanto que o contrário indica uma alta expressão. Os dados também apresentam rótulos (veja o atributo class) sendo TP (primary solid tumor) indicando tumor e NT (normal tissue).\n",
    "\n",
    "\n",
    "**Objetivo:** Construir um modelo para predizer quando uma pessoa tem câncer dado um exame de sequenciamento do RNA."
   ]
  },
  {
   "cell_type": "markdown",
   "metadata": {
    "id": "8_BWys_jdE_v"
   },
   "source": [
    "## Leitura dos Dados"
   ]
  },
  {
   "cell_type": "code",
   "execution_count": 25,
   "metadata": {
    "id": "m0fJuzemhi7t",
    "tags": []
   },
   "outputs": [],
   "source": [
    "import pandas as pd\n",
    "import numpy as np\n",
    "import seaborn as sns\n",
    "import matplotlib.pyplot as plt\n",
    "\n",
    "\n",
    "from sklearn.model_selection import train_test_split\n",
    "from sklearn.linear_model import LogisticRegression\n",
    "from sklearn.metrics import balanced_accuracy_score\n",
    "from sklearn.model_selection import cross_val_score\n",
    "from sklearn.pipeline import Pipeline\n",
    "from sklearn.preprocessing import StandardScaler\n",
    "from sklearn.neighbors import KNeighborsClassifier\n",
    "from sklearn.preprocessing import MinMaxScaler\n",
    "from sklearn.feature_selection import SelectKBest\n",
    "from sklearn.feature_selection import chi2\n",
    "from sklearn.decomposition import PCA\n",
    "\n"
   ]
  },
  {
   "cell_type": "code",
   "execution_count": 13,
   "metadata": {
    "id": "K2aH2mRabjRz",
    "tags": []
   },
   "outputs": [
    {
     "data": {
      "text/html": [
       "<div>\n",
       "<style scoped>\n",
       "    .dataframe tbody tr th:only-of-type {\n",
       "        vertical-align: middle;\n",
       "    }\n",
       "\n",
       "    .dataframe tbody tr th {\n",
       "        vertical-align: top;\n",
       "    }\n",
       "\n",
       "    .dataframe thead th {\n",
       "        text-align: right;\n",
       "    }\n",
       "</style>\n",
       "<table border=\"1\" class=\"dataframe\">\n",
       "  <thead>\n",
       "    <tr style=\"text-align: right;\">\n",
       "      <th></th>\n",
       "      <th>hsa.let.7a.1</th>\n",
       "      <th>hsa.let.7a.2</th>\n",
       "      <th>hsa.let.7a.3</th>\n",
       "      <th>hsa.let.7b</th>\n",
       "      <th>hsa.let.7c</th>\n",
       "      <th>hsa.let.7d</th>\n",
       "      <th>hsa.let.7e</th>\n",
       "      <th>hsa.let.7f.1</th>\n",
       "      <th>hsa.let.7f.2</th>\n",
       "      <th>hsa.let.7g</th>\n",
       "      <th>...</th>\n",
       "      <th>hsa.mir.941.1</th>\n",
       "      <th>hsa.mir.942</th>\n",
       "      <th>hsa.mir.943</th>\n",
       "      <th>hsa.mir.944</th>\n",
       "      <th>hsa.mir.95</th>\n",
       "      <th>hsa.mir.96</th>\n",
       "      <th>hsa.mir.98</th>\n",
       "      <th>hsa.mir.99a</th>\n",
       "      <th>hsa.mir.99b</th>\n",
       "      <th>class</th>\n",
       "    </tr>\n",
       "  </thead>\n",
       "  <tbody>\n",
       "    <tr>\n",
       "      <th>0</th>\n",
       "      <td>8962.996542</td>\n",
       "      <td>17779.575039</td>\n",
       "      <td>9075.200383</td>\n",
       "      <td>24749.898857</td>\n",
       "      <td>341.298400</td>\n",
       "      <td>406.164781</td>\n",
       "      <td>1470.179650</td>\n",
       "      <td>14.716795</td>\n",
       "      <td>3627.642977</td>\n",
       "      <td>387.417272</td>\n",
       "      <td>...</td>\n",
       "      <td>0.0</td>\n",
       "      <td>5.530515</td>\n",
       "      <td>0.187475</td>\n",
       "      <td>2.062226</td>\n",
       "      <td>4.124452</td>\n",
       "      <td>119.984057</td>\n",
       "      <td>53.992826</td>\n",
       "      <td>130.201449</td>\n",
       "      <td>46548.939810</td>\n",
       "      <td>TP</td>\n",
       "    </tr>\n",
       "    <tr>\n",
       "      <th>1</th>\n",
       "      <td>7739.739862</td>\n",
       "      <td>15524.941906</td>\n",
       "      <td>7713.626636</td>\n",
       "      <td>23374.640471</td>\n",
       "      <td>801.487258</td>\n",
       "      <td>513.297924</td>\n",
       "      <td>560.962427</td>\n",
       "      <td>20.922042</td>\n",
       "      <td>6557.093894</td>\n",
       "      <td>350.955461</td>\n",
       "      <td>...</td>\n",
       "      <td>0.0</td>\n",
       "      <td>8.180047</td>\n",
       "      <td>0.000000</td>\n",
       "      <td>0.629234</td>\n",
       "      <td>1.258469</td>\n",
       "      <td>60.249189</td>\n",
       "      <td>86.047798</td>\n",
       "      <td>236.434808</td>\n",
       "      <td>12644.149725</td>\n",
       "      <td>TP</td>\n",
       "    </tr>\n",
       "    <tr>\n",
       "      <th>2</th>\n",
       "      <td>8260.612670</td>\n",
       "      <td>16497.981335</td>\n",
       "      <td>8355.342958</td>\n",
       "      <td>10957.355911</td>\n",
       "      <td>635.811272</td>\n",
       "      <td>620.351816</td>\n",
       "      <td>2694.331127</td>\n",
       "      <td>39.799878</td>\n",
       "      <td>11830.760394</td>\n",
       "      <td>600.725980</td>\n",
       "      <td>...</td>\n",
       "      <td>0.0</td>\n",
       "      <td>3.618171</td>\n",
       "      <td>0.000000</td>\n",
       "      <td>0.767491</td>\n",
       "      <td>1.644623</td>\n",
       "      <td>97.252043</td>\n",
       "      <td>117.645369</td>\n",
       "      <td>191.434123</td>\n",
       "      <td>33083.456616</td>\n",
       "      <td>TP</td>\n",
       "    </tr>\n",
       "    <tr>\n",
       "      <th>3</th>\n",
       "      <td>9056.241254</td>\n",
       "      <td>18075.168478</td>\n",
       "      <td>9097.666150</td>\n",
       "      <td>26017.522731</td>\n",
       "      <td>2919.348415</td>\n",
       "      <td>334.245155</td>\n",
       "      <td>1322.434475</td>\n",
       "      <td>17.866463</td>\n",
       "      <td>6438.725384</td>\n",
       "      <td>354.957604</td>\n",
       "      <td>...</td>\n",
       "      <td>0.0</td>\n",
       "      <td>3.478426</td>\n",
       "      <td>0.000000</td>\n",
       "      <td>3.478426</td>\n",
       "      <td>1.739213</td>\n",
       "      <td>72.572624</td>\n",
       "      <td>41.583007</td>\n",
       "      <td>1046.690127</td>\n",
       "      <td>24067.232290</td>\n",
       "      <td>TP</td>\n",
       "    </tr>\n",
       "    <tr>\n",
       "      <th>4</th>\n",
       "      <td>10897.303665</td>\n",
       "      <td>21822.338727</td>\n",
       "      <td>10963.956320</td>\n",
       "      <td>22204.253575</td>\n",
       "      <td>3313.009950</td>\n",
       "      <td>350.615669</td>\n",
       "      <td>1711.886682</td>\n",
       "      <td>22.541895</td>\n",
       "      <td>8246.117280</td>\n",
       "      <td>333.425447</td>\n",
       "      <td>...</td>\n",
       "      <td>0.0</td>\n",
       "      <td>2.108235</td>\n",
       "      <td>0.000000</td>\n",
       "      <td>1.135203</td>\n",
       "      <td>0.810860</td>\n",
       "      <td>19.947145</td>\n",
       "      <td>34.380445</td>\n",
       "      <td>1081.037952</td>\n",
       "      <td>25715.275426</td>\n",
       "      <td>TP</td>\n",
       "    </tr>\n",
       "    <tr>\n",
       "      <th>...</th>\n",
       "      <td>...</td>\n",
       "      <td>...</td>\n",
       "      <td>...</td>\n",
       "      <td>...</td>\n",
       "      <td>...</td>\n",
       "      <td>...</td>\n",
       "      <td>...</td>\n",
       "      <td>...</td>\n",
       "      <td>...</td>\n",
       "      <td>...</td>\n",
       "      <td>...</td>\n",
       "      <td>...</td>\n",
       "      <td>...</td>\n",
       "      <td>...</td>\n",
       "      <td>...</td>\n",
       "      <td>...</td>\n",
       "      <td>...</td>\n",
       "      <td>...</td>\n",
       "      <td>...</td>\n",
       "      <td>...</td>\n",
       "      <td>...</td>\n",
       "    </tr>\n",
       "    <tr>\n",
       "      <th>837</th>\n",
       "      <td>10628.975280</td>\n",
       "      <td>21125.108661</td>\n",
       "      <td>10585.686678</td>\n",
       "      <td>23396.813364</td>\n",
       "      <td>3892.051211</td>\n",
       "      <td>367.141461</td>\n",
       "      <td>1484.663795</td>\n",
       "      <td>23.402901</td>\n",
       "      <td>10570.535667</td>\n",
       "      <td>571.680109</td>\n",
       "      <td>...</td>\n",
       "      <td>0.0</td>\n",
       "      <td>1.217492</td>\n",
       "      <td>0.000000</td>\n",
       "      <td>0.405831</td>\n",
       "      <td>1.217492</td>\n",
       "      <td>79.813361</td>\n",
       "      <td>57.627952</td>\n",
       "      <td>1100.883277</td>\n",
       "      <td>16338.471420</td>\n",
       "      <td>TP</td>\n",
       "    </tr>\n",
       "    <tr>\n",
       "      <th>838</th>\n",
       "      <td>16799.785282</td>\n",
       "      <td>33603.904432</td>\n",
       "      <td>16883.338223</td>\n",
       "      <td>20731.006597</td>\n",
       "      <td>5263.331356</td>\n",
       "      <td>201.676038</td>\n",
       "      <td>2173.283559</td>\n",
       "      <td>36.888271</td>\n",
       "      <td>18227.341203</td>\n",
       "      <td>870.301142</td>\n",
       "      <td>...</td>\n",
       "      <td>0.0</td>\n",
       "      <td>5.341744</td>\n",
       "      <td>0.000000</td>\n",
       "      <td>3.124416</td>\n",
       "      <td>2.318115</td>\n",
       "      <td>16.629958</td>\n",
       "      <td>57.348159</td>\n",
       "      <td>1919.601107</td>\n",
       "      <td>14080.736733</td>\n",
       "      <td>TP</td>\n",
       "    </tr>\n",
       "    <tr>\n",
       "      <th>839</th>\n",
       "      <td>13120.807001</td>\n",
       "      <td>26337.935723</td>\n",
       "      <td>13229.425112</td>\n",
       "      <td>18796.895124</td>\n",
       "      <td>6581.549565</td>\n",
       "      <td>375.598820</td>\n",
       "      <td>2547.029500</td>\n",
       "      <td>28.505268</td>\n",
       "      <td>16838.042944</td>\n",
       "      <td>778.398745</td>\n",
       "      <td>...</td>\n",
       "      <td>0.0</td>\n",
       "      <td>1.863089</td>\n",
       "      <td>0.000000</td>\n",
       "      <td>0.558927</td>\n",
       "      <td>0.931545</td>\n",
       "      <td>41.919511</td>\n",
       "      <td>54.215901</td>\n",
       "      <td>1310.124456</td>\n",
       "      <td>17072.605898</td>\n",
       "      <td>TP</td>\n",
       "    </tr>\n",
       "    <tr>\n",
       "      <th>840</th>\n",
       "      <td>7979.531224</td>\n",
       "      <td>16006.280243</td>\n",
       "      <td>8106.687917</td>\n",
       "      <td>20462.010937</td>\n",
       "      <td>4040.296936</td>\n",
       "      <td>295.594442</td>\n",
       "      <td>962.166120</td>\n",
       "      <td>23.885025</td>\n",
       "      <td>7625.121634</td>\n",
       "      <td>428.411748</td>\n",
       "      <td>...</td>\n",
       "      <td>0.0</td>\n",
       "      <td>2.070956</td>\n",
       "      <td>0.000000</td>\n",
       "      <td>2.209020</td>\n",
       "      <td>1.656765</td>\n",
       "      <td>55.225491</td>\n",
       "      <td>53.016472</td>\n",
       "      <td>1120.939408</td>\n",
       "      <td>18696.866174</td>\n",
       "      <td>TP</td>\n",
       "    </tr>\n",
       "    <tr>\n",
       "      <th>841</th>\n",
       "      <td>10439.110392</td>\n",
       "      <td>20880.967721</td>\n",
       "      <td>10649.126224</td>\n",
       "      <td>17770.685685</td>\n",
       "      <td>1330.766196</td>\n",
       "      <td>790.868182</td>\n",
       "      <td>1952.822603</td>\n",
       "      <td>29.966587</td>\n",
       "      <td>10936.555740</td>\n",
       "      <td>577.855691</td>\n",
       "      <td>...</td>\n",
       "      <td>0.0</td>\n",
       "      <td>11.487192</td>\n",
       "      <td>0.000000</td>\n",
       "      <td>3.745823</td>\n",
       "      <td>2.746937</td>\n",
       "      <td>44.949881</td>\n",
       "      <td>80.160621</td>\n",
       "      <td>470.225698</td>\n",
       "      <td>34080.000799</td>\n",
       "      <td>TP</td>\n",
       "    </tr>\n",
       "  </tbody>\n",
       "</table>\n",
       "<p>842 rows × 898 columns</p>\n",
       "</div>"
      ],
      "text/plain": [
       "     hsa.let.7a.1  hsa.let.7a.2  hsa.let.7a.3    hsa.let.7b   hsa.let.7c  \\\n",
       "0     8962.996542  17779.575039   9075.200383  24749.898857   341.298400   \n",
       "1     7739.739862  15524.941906   7713.626636  23374.640471   801.487258   \n",
       "2     8260.612670  16497.981335   8355.342958  10957.355911   635.811272   \n",
       "3     9056.241254  18075.168478   9097.666150  26017.522731  2919.348415   \n",
       "4    10897.303665  21822.338727  10963.956320  22204.253575  3313.009950   \n",
       "..            ...           ...           ...           ...          ...   \n",
       "837  10628.975280  21125.108661  10585.686678  23396.813364  3892.051211   \n",
       "838  16799.785282  33603.904432  16883.338223  20731.006597  5263.331356   \n",
       "839  13120.807001  26337.935723  13229.425112  18796.895124  6581.549565   \n",
       "840   7979.531224  16006.280243   8106.687917  20462.010937  4040.296936   \n",
       "841  10439.110392  20880.967721  10649.126224  17770.685685  1330.766196   \n",
       "\n",
       "     hsa.let.7d   hsa.let.7e  hsa.let.7f.1  hsa.let.7f.2  hsa.let.7g  ...  \\\n",
       "0    406.164781  1470.179650     14.716795   3627.642977  387.417272  ...   \n",
       "1    513.297924   560.962427     20.922042   6557.093894  350.955461  ...   \n",
       "2    620.351816  2694.331127     39.799878  11830.760394  600.725980  ...   \n",
       "3    334.245155  1322.434475     17.866463   6438.725384  354.957604  ...   \n",
       "4    350.615669  1711.886682     22.541895   8246.117280  333.425447  ...   \n",
       "..          ...          ...           ...           ...         ...  ...   \n",
       "837  367.141461  1484.663795     23.402901  10570.535667  571.680109  ...   \n",
       "838  201.676038  2173.283559     36.888271  18227.341203  870.301142  ...   \n",
       "839  375.598820  2547.029500     28.505268  16838.042944  778.398745  ...   \n",
       "840  295.594442   962.166120     23.885025   7625.121634  428.411748  ...   \n",
       "841  790.868182  1952.822603     29.966587  10936.555740  577.855691  ...   \n",
       "\n",
       "     hsa.mir.941.1  hsa.mir.942  hsa.mir.943  hsa.mir.944  hsa.mir.95  \\\n",
       "0              0.0     5.530515     0.187475     2.062226    4.124452   \n",
       "1              0.0     8.180047     0.000000     0.629234    1.258469   \n",
       "2              0.0     3.618171     0.000000     0.767491    1.644623   \n",
       "3              0.0     3.478426     0.000000     3.478426    1.739213   \n",
       "4              0.0     2.108235     0.000000     1.135203    0.810860   \n",
       "..             ...          ...          ...          ...         ...   \n",
       "837            0.0     1.217492     0.000000     0.405831    1.217492   \n",
       "838            0.0     5.341744     0.000000     3.124416    2.318115   \n",
       "839            0.0     1.863089     0.000000     0.558927    0.931545   \n",
       "840            0.0     2.070956     0.000000     2.209020    1.656765   \n",
       "841            0.0    11.487192     0.000000     3.745823    2.746937   \n",
       "\n",
       "     hsa.mir.96  hsa.mir.98  hsa.mir.99a   hsa.mir.99b  class  \n",
       "0    119.984057   53.992826   130.201449  46548.939810     TP  \n",
       "1     60.249189   86.047798   236.434808  12644.149725     TP  \n",
       "2     97.252043  117.645369   191.434123  33083.456616     TP  \n",
       "3     72.572624   41.583007  1046.690127  24067.232290     TP  \n",
       "4     19.947145   34.380445  1081.037952  25715.275426     TP  \n",
       "..          ...         ...          ...           ...    ...  \n",
       "837   79.813361   57.627952  1100.883277  16338.471420     TP  \n",
       "838   16.629958   57.348159  1919.601107  14080.736733     TP  \n",
       "839   41.919511   54.215901  1310.124456  17072.605898     TP  \n",
       "840   55.225491   53.016472  1120.939408  18696.866174     TP  \n",
       "841   44.949881   80.160621   470.225698  34080.000799     TP  \n",
       "\n",
       "[842 rows x 898 columns]"
      ]
     },
     "execution_count": 13,
     "metadata": {},
     "output_type": "execute_result"
    }
   ],
   "source": [
    "df = pd.read_csv(\"../data/raw/data.csv\", sep =';', header=0,decimal=',')\n",
    "df"
   ]
  },
  {
   "cell_type": "code",
   "execution_count": 14,
   "metadata": {
    "id": "ki3_luTFmQDn"
   },
   "outputs": [
    {
     "data": {
      "text/plain": [
       "(842, 898)"
      ]
     },
     "execution_count": 14,
     "metadata": {},
     "output_type": "execute_result"
    }
   ],
   "source": [
    "df.shape"
   ]
  },
  {
   "cell_type": "markdown",
   "metadata": {
    "id": "R-3MzuzpdXPG"
   },
   "source": [
    "## Análise Exploratória dos Dados"
   ]
  },
  {
   "cell_type": "code",
   "execution_count": 15,
   "metadata": {
    "id": "zasmZRzyddbq"
   },
   "outputs": [
    {
     "data": {
      "image/png": "[encoded data removed]",
      "text/plain": [
       "<Figure size 640x480 with 1 Axes>"
      ]
     },
     "metadata": {},
     "output_type": "display_data"
    }
   ],
   "source": [
    "ax = sns.countplot(x=\"class\", data=df)"
   ]
  },
  {
   "cell_type": "code",
   "execution_count": 17,
   "metadata": {
    "id": "AGqvfRIgmPJG"
   },
   "outputs": [
    {
     "data": {
      "text/plain": [
       "TP    755\n",
       "NT     87\n",
       "Name: class, dtype: int64"
      ]
     },
     "execution_count": 17,
     "metadata": {},
     "output_type": "execute_result"
    }
   ],
   "source": [
    "df[\"class\"].value_counts()"
   ]
  },
  {
   "cell_type": "code",
   "execution_count": 18,
   "metadata": {
    "id": "MudP9wyJnMiX"
   },
   "outputs": [
    {
     "data": {
      "text/plain": [
       "TP    0.896675\n",
       "NT    0.103325\n",
       "Name: class, dtype: float64"
      ]
     },
     "execution_count": 18,
     "metadata": {},
     "output_type": "execute_result"
    }
   ],
   "source": [
    "df[\"class\"].value_counts(normalize=True)"
   ]
  },
  {
   "cell_type": "code",
   "execution_count": 19,
   "metadata": {
    "id": "BFObjpRUpLG7"
   },
   "outputs": [
    {
     "data": {
      "text/html": [
       "<div>\n",
       "<style scoped>\n",
       "    .dataframe tbody tr th:only-of-type {\n",
       "        vertical-align: middle;\n",
       "    }\n",
       "\n",
       "    .dataframe tbody tr th {\n",
       "        vertical-align: top;\n",
       "    }\n",
       "\n",
       "    .dataframe thead th {\n",
       "        text-align: right;\n",
       "    }\n",
       "</style>\n",
       "<table border=\"1\" class=\"dataframe\">\n",
       "  <thead>\n",
       "    <tr style=\"text-align: right;\">\n",
       "      <th></th>\n",
       "      <th>hsa.let.7a.1</th>\n",
       "      <th>hsa.let.7a.2</th>\n",
       "      <th>hsa.let.7a.3</th>\n",
       "      <th>hsa.let.7b</th>\n",
       "      <th>hsa.let.7c</th>\n",
       "      <th>hsa.let.7d</th>\n",
       "      <th>hsa.let.7e</th>\n",
       "      <th>hsa.let.7f.1</th>\n",
       "      <th>hsa.let.7f.2</th>\n",
       "      <th>hsa.let.7g</th>\n",
       "      <th>...</th>\n",
       "      <th>hsa.mir.940</th>\n",
       "      <th>hsa.mir.941.1</th>\n",
       "      <th>hsa.mir.942</th>\n",
       "      <th>hsa.mir.943</th>\n",
       "      <th>hsa.mir.944</th>\n",
       "      <th>hsa.mir.95</th>\n",
       "      <th>hsa.mir.96</th>\n",
       "      <th>hsa.mir.98</th>\n",
       "      <th>hsa.mir.99a</th>\n",
       "      <th>hsa.mir.99b</th>\n",
       "    </tr>\n",
       "  </thead>\n",
       "  <tbody>\n",
       "    <tr>\n",
       "      <th>count</th>\n",
       "      <td>842.000000</td>\n",
       "      <td>842.000000</td>\n",
       "      <td>842.000000</td>\n",
       "      <td>842.000000</td>\n",
       "      <td>842.000000</td>\n",
       "      <td>842.000000</td>\n",
       "      <td>842.000000</td>\n",
       "      <td>842.000000</td>\n",
       "      <td>842.000000</td>\n",
       "      <td>842.000000</td>\n",
       "      <td>...</td>\n",
       "      <td>842.000000</td>\n",
       "      <td>842.000000</td>\n",
       "      <td>842.000000</td>\n",
       "      <td>842.000000</td>\n",
       "      <td>842.000000</td>\n",
       "      <td>842.000000</td>\n",
       "      <td>842.000000</td>\n",
       "      <td>842.000000</td>\n",
       "      <td>842.000000</td>\n",
       "      <td>842.000000</td>\n",
       "    </tr>\n",
       "    <tr>\n",
       "      <th>mean</th>\n",
       "      <td>9218.938921</td>\n",
       "      <td>18432.504585</td>\n",
       "      <td>9289.250466</td>\n",
       "      <td>26606.604836</td>\n",
       "      <td>3152.699471</td>\n",
       "      <td>558.321269</td>\n",
       "      <td>1289.570177</td>\n",
       "      <td>24.359962</td>\n",
       "      <td>8687.461926</td>\n",
       "      <td>610.223836</td>\n",
       "      <td>...</td>\n",
       "      <td>5.902975</td>\n",
       "      <td>0.003737</td>\n",
       "      <td>6.446279</td>\n",
       "      <td>0.061018</td>\n",
       "      <td>2.320737</td>\n",
       "      <td>3.150482</td>\n",
       "      <td>38.307053</td>\n",
       "      <td>63.746405</td>\n",
       "      <td>1034.572148</td>\n",
       "      <td>44369.112203</td>\n",
       "    </tr>\n",
       "    <tr>\n",
       "      <th>std</th>\n",
       "      <td>4843.796136</td>\n",
       "      <td>9704.187427</td>\n",
       "      <td>4858.691217</td>\n",
       "      <td>16745.347957</td>\n",
       "      <td>3238.003201</td>\n",
       "      <td>346.883205</td>\n",
       "      <td>763.056055</td>\n",
       "      <td>12.490091</td>\n",
       "      <td>6052.615278</td>\n",
       "      <td>317.854963</td>\n",
       "      <td>...</td>\n",
       "      <td>8.325681</td>\n",
       "      <td>0.049274</td>\n",
       "      <td>9.541682</td>\n",
       "      <td>0.172214</td>\n",
       "      <td>6.527536</td>\n",
       "      <td>4.287594</td>\n",
       "      <td>33.791795</td>\n",
       "      <td>40.145314</td>\n",
       "      <td>1117.491608</td>\n",
       "      <td>32754.290751</td>\n",
       "    </tr>\n",
       "    <tr>\n",
       "      <th>min</th>\n",
       "      <td>1294.149164</td>\n",
       "      <td>2599.981125</td>\n",
       "      <td>1319.952907</td>\n",
       "      <td>1817.920354</td>\n",
       "      <td>148.795934</td>\n",
       "      <td>79.783216</td>\n",
       "      <td>161.181457</td>\n",
       "      <td>2.439034</td>\n",
       "      <td>653.474578</td>\n",
       "      <td>88.614573</td>\n",
       "      <td>...</td>\n",
       "      <td>0.000000</td>\n",
       "      <td>0.000000</td>\n",
       "      <td>0.000000</td>\n",
       "      <td>0.000000</td>\n",
       "      <td>0.000000</td>\n",
       "      <td>0.000000</td>\n",
       "      <td>0.000000</td>\n",
       "      <td>3.374223</td>\n",
       "      <td>18.400719</td>\n",
       "      <td>3475.079227</td>\n",
       "    </tr>\n",
       "    <tr>\n",
       "      <th>25%</th>\n",
       "      <td>5902.143848</td>\n",
       "      <td>11741.467528</td>\n",
       "      <td>5933.706564</td>\n",
       "      <td>14580.357100</td>\n",
       "      <td>1276.700850</td>\n",
       "      <td>330.638301</td>\n",
       "      <td>809.867504</td>\n",
       "      <td>16.441786</td>\n",
       "      <td>4648.822942</td>\n",
       "      <td>410.859815</td>\n",
       "      <td>...</td>\n",
       "      <td>1.378098</td>\n",
       "      <td>0.000000</td>\n",
       "      <td>2.464140</td>\n",
       "      <td>0.000000</td>\n",
       "      <td>0.373238</td>\n",
       "      <td>1.201951</td>\n",
       "      <td>14.906921</td>\n",
       "      <td>39.913493</td>\n",
       "      <td>387.430475</td>\n",
       "      <td>22769.094433</td>\n",
       "    </tr>\n",
       "    <tr>\n",
       "      <th>50%</th>\n",
       "      <td>8016.628565</td>\n",
       "      <td>16040.589880</td>\n",
       "      <td>8103.783439</td>\n",
       "      <td>23097.825936</td>\n",
       "      <td>2352.902327</td>\n",
       "      <td>481.342371</td>\n",
       "      <td>1101.403395</td>\n",
       "      <td>21.890340</td>\n",
       "      <td>7019.157941</td>\n",
       "      <td>532.277053</td>\n",
       "      <td>...</td>\n",
       "      <td>3.192098</td>\n",
       "      <td>0.000000</td>\n",
       "      <td>4.127957</td>\n",
       "      <td>0.000000</td>\n",
       "      <td>1.036215</td>\n",
       "      <td>2.235731</td>\n",
       "      <td>29.634884</td>\n",
       "      <td>52.993693</td>\n",
       "      <td>710.026124</td>\n",
       "      <td>35594.670263</td>\n",
       "    </tr>\n",
       "    <tr>\n",
       "      <th>75%</th>\n",
       "      <td>11236.887034</td>\n",
       "      <td>22538.594950</td>\n",
       "      <td>11289.595988</td>\n",
       "      <td>34373.185504</td>\n",
       "      <td>3971.192192</td>\n",
       "      <td>681.931022</td>\n",
       "      <td>1619.864372</td>\n",
       "      <td>29.395515</td>\n",
       "      <td>10926.448322</td>\n",
       "      <td>724.277709</td>\n",
       "      <td>...</td>\n",
       "      <td>7.159431</td>\n",
       "      <td>0.000000</td>\n",
       "      <td>7.551755</td>\n",
       "      <td>0.000000</td>\n",
       "      <td>2.345941</td>\n",
       "      <td>4.030888</td>\n",
       "      <td>51.258145</td>\n",
       "      <td>75.993914</td>\n",
       "      <td>1242.434228</td>\n",
       "      <td>53462.034662</td>\n",
       "    </tr>\n",
       "    <tr>\n",
       "      <th>max</th>\n",
       "      <td>45101.697434</td>\n",
       "      <td>90233.655610</td>\n",
       "      <td>45095.490102</td>\n",
       "      <td>144706.427973</td>\n",
       "      <td>59677.212349</td>\n",
       "      <td>3370.036117</td>\n",
       "      <td>11617.011618</td>\n",
       "      <td>121.408006</td>\n",
       "      <td>80780.055188</td>\n",
       "      <td>3342.745045</td>\n",
       "      <td>...</td>\n",
       "      <td>91.996543</td>\n",
       "      <td>0.909391</td>\n",
       "      <td>184.185656</td>\n",
       "      <td>1.757516</td>\n",
       "      <td>122.685820</td>\n",
       "      <td>93.402785</td>\n",
       "      <td>259.127121</td>\n",
       "      <td>399.078716</td>\n",
       "      <td>15689.499524</td>\n",
       "      <td>248074.178531</td>\n",
       "    </tr>\n",
       "  </tbody>\n",
       "</table>\n",
       "<p>8 rows × 897 columns</p>\n",
       "</div>"
      ],
      "text/plain": [
       "       hsa.let.7a.1  hsa.let.7a.2  hsa.let.7a.3     hsa.let.7b    hsa.let.7c  \\\n",
       "count    842.000000    842.000000    842.000000     842.000000    842.000000   \n",
       "mean    9218.938921  18432.504585   9289.250466   26606.604836   3152.699471   \n",
       "std     4843.796136   9704.187427   4858.691217   16745.347957   3238.003201   \n",
       "min     1294.149164   2599.981125   1319.952907    1817.920354    148.795934   \n",
       "25%     5902.143848  11741.467528   5933.706564   14580.357100   1276.700850   \n",
       "50%     8016.628565  16040.589880   8103.783439   23097.825936   2352.902327   \n",
       "75%    11236.887034  22538.594950  11289.595988   34373.185504   3971.192192   \n",
       "max    45101.697434  90233.655610  45095.490102  144706.427973  59677.212349   \n",
       "\n",
       "        hsa.let.7d    hsa.let.7e  hsa.let.7f.1  hsa.let.7f.2   hsa.let.7g  \\\n",
       "count   842.000000    842.000000    842.000000    842.000000   842.000000   \n",
       "mean    558.321269   1289.570177     24.359962   8687.461926   610.223836   \n",
       "std     346.883205    763.056055     12.490091   6052.615278   317.854963   \n",
       "min      79.783216    161.181457      2.439034    653.474578    88.614573   \n",
       "25%     330.638301    809.867504     16.441786   4648.822942   410.859815   \n",
       "50%     481.342371   1101.403395     21.890340   7019.157941   532.277053   \n",
       "75%     681.931022   1619.864372     29.395515  10926.448322   724.277709   \n",
       "max    3370.036117  11617.011618    121.408006  80780.055188  3342.745045   \n",
       "\n",
       "       ...  hsa.mir.940  hsa.mir.941.1  hsa.mir.942  hsa.mir.943  hsa.mir.944  \\\n",
       "count  ...   842.000000     842.000000   842.000000   842.000000   842.000000   \n",
       "mean   ...     5.902975       0.003737     6.446279     0.061018     2.320737   \n",
       "std    ...     8.325681       0.049274     9.541682     0.172214     6.527536   \n",
       "min    ...     0.000000       0.000000     0.000000     0.000000     0.000000   \n",
       "25%    ...     1.378098       0.000000     2.464140     0.000000     0.373238   \n",
       "50%    ...     3.192098       0.000000     4.127957     0.000000     1.036215   \n",
       "75%    ...     7.159431       0.000000     7.551755     0.000000     2.345941   \n",
       "max    ...    91.996543       0.909391   184.185656     1.757516   122.685820   \n",
       "\n",
       "       hsa.mir.95  hsa.mir.96  hsa.mir.98   hsa.mir.99a    hsa.mir.99b  \n",
       "count  842.000000  842.000000  842.000000    842.000000     842.000000  \n",
       "mean     3.150482   38.307053   63.746405   1034.572148   44369.112203  \n",
       "std      4.287594   33.791795   40.145314   1117.491608   32754.290751  \n",
       "min      0.000000    0.000000    3.374223     18.400719    3475.079227  \n",
       "25%      1.201951   14.906921   39.913493    387.430475   22769.094433  \n",
       "50%      2.235731   29.634884   52.993693    710.026124   35594.670263  \n",
       "75%      4.030888   51.258145   75.993914   1242.434228   53462.034662  \n",
       "max     93.402785  259.127121  399.078716  15689.499524  248074.178531  \n",
       "\n",
       "[8 rows x 897 columns]"
      ]
     },
     "execution_count": 19,
     "metadata": {},
     "output_type": "execute_result"
    }
   ],
   "source": [
    "df.describe()"
   ]
  },
  {
   "cell_type": "markdown",
   "metadata": {
    "id": "5Dn-9490do7Q"
   },
   "source": [
    "## Estabelecendo um Baseline Comparativo\n",
    "\n",
    "Antes de qualque modelagem vamos estabelecer um baseline, i.e., uma solução simples para o problema."
   ]
  },
  {
   "cell_type": "code",
   "execution_count": 21,
   "metadata": {
    "id": "PYnwDvX_xUOO"
   },
   "outputs": [],
   "source": [
    "x = df.drop(\"class\", axis=1)\n",
    "y = df[\"class\"]\n",
    "x_train, x_test, y_train, y_test=train_test_split(x,y,test_size=0.30,stratify=y,random_state=42)"
   ]
  },
  {
   "cell_type": "code",
   "execution_count": 22,
   "metadata": {
    "id": "QrAMmLCJx8xS"
   },
   "outputs": [
    {
     "data": {
      "text/plain": [
       "TP    0.896435\n",
       "NT    0.103565\n",
       "Name: class, dtype: float64"
      ]
     },
     "execution_count": 22,
     "metadata": {},
     "output_type": "execute_result"
    }
   ],
   "source": [
    "y_train.value_counts(normalize=True)"
   ]
  },
  {
   "cell_type": "code",
   "execution_count": 23,
   "metadata": {
    "id": "D9-BJRzdyIXA"
   },
   "outputs": [
    {
     "data": {
      "text/plain": [
       "TP    0.897233\n",
       "NT    0.102767\n",
       "Name: class, dtype: float64"
      ]
     },
     "execution_count": 23,
     "metadata": {},
     "output_type": "execute_result"
    }
   ],
   "source": [
    "y_test.value_counts(normalize=True)"
   ]
  },
  {
   "cell_type": "code",
   "execution_count": 27,
   "metadata": {
    "id": "JScz8TB5xHyI"
   },
   "outputs": [
    {
     "name": "stderr",
     "output_type": "stream",
     "text": [
      "/home/mayhem/.cache/pypoetry/virtualenvs/src-Hh50LVj2-py3.10/lib/python3.10/site-packages/sklearn/linear_model/_logistic.py:460: ConvergenceWarning: lbfgs failed to converge (status=1):\n",
      "STOP: TOTAL NO. of ITERATIONS REACHED LIMIT.\n",
      "\n",
      "Increase the number of iterations (max_iter) or scale the data as shown in:\n",
      "    https://scikit-learn.org/stable/modules/preprocessing.html\n",
      "Please also refer to the documentation for alternative solver options:\n",
      "    https://scikit-learn.org/stable/modules/linear_model.html#logistic-regression\n",
      "  n_iter_i = _check_optimize_result(\n",
      "/home/mayhem/.cache/pypoetry/virtualenvs/src-Hh50LVj2-py3.10/lib/python3.10/site-packages/sklearn/linear_model/_logistic.py:460: ConvergenceWarning: lbfgs failed to converge (status=1):\n",
      "STOP: TOTAL NO. of ITERATIONS REACHED LIMIT.\n",
      "\n",
      "Increase the number of iterations (max_iter) or scale the data as shown in:\n",
      "    https://scikit-learn.org/stable/modules/preprocessing.html\n",
      "Please also refer to the documentation for alternative solver options:\n",
      "    https://scikit-learn.org/stable/modules/linear_model.html#logistic-regression\n",
      "  n_iter_i = _check_optimize_result(\n",
      "/home/mayhem/.cache/pypoetry/virtualenvs/src-Hh50LVj2-py3.10/lib/python3.10/site-packages/sklearn/linear_model/_logistic.py:460: ConvergenceWarning: lbfgs failed to converge (status=1):\n",
      "STOP: TOTAL NO. of ITERATIONS REACHED LIMIT.\n",
      "\n",
      "Increase the number of iterations (max_iter) or scale the data as shown in:\n",
      "    https://scikit-learn.org/stable/modules/preprocessing.html\n",
      "Please also refer to the documentation for alternative solver options:\n",
      "    https://scikit-learn.org/stable/modules/linear_model.html#logistic-regression\n",
      "  n_iter_i = _check_optimize_result(\n",
      "/home/mayhem/.cache/pypoetry/virtualenvs/src-Hh50LVj2-py3.10/lib/python3.10/site-packages/sklearn/linear_model/_logistic.py:460: ConvergenceWarning: lbfgs failed to converge (status=1):\n",
      "STOP: TOTAL NO. of ITERATIONS REACHED LIMIT.\n",
      "\n",
      "Increase the number of iterations (max_iter) or scale the data as shown in:\n",
      "    https://scikit-learn.org/stable/modules/preprocessing.html\n",
      "Please also refer to the documentation for alternative solver options:\n",
      "    https://scikit-learn.org/stable/modules/linear_model.html#logistic-regression\n",
      "  n_iter_i = _check_optimize_result(\n",
      "/home/mayhem/.cache/pypoetry/virtualenvs/src-Hh50LVj2-py3.10/lib/python3.10/site-packages/sklearn/linear_model/_logistic.py:460: ConvergenceWarning: lbfgs failed to converge (status=1):\n",
      "STOP: TOTAL NO. of ITERATIONS REACHED LIMIT.\n",
      "\n",
      "Increase the number of iterations (max_iter) or scale the data as shown in:\n",
      "    https://scikit-learn.org/stable/modules/preprocessing.html\n",
      "Please also refer to the documentation for alternative solver options:\n",
      "    https://scikit-learn.org/stable/modules/linear_model.html#logistic-regression\n",
      "  n_iter_i = _check_optimize_result(\n",
      "/home/mayhem/.cache/pypoetry/virtualenvs/src-Hh50LVj2-py3.10/lib/python3.10/site-packages/sklearn/linear_model/_logistic.py:460: ConvergenceWarning: lbfgs failed to converge (status=1):\n",
      "STOP: TOTAL NO. of ITERATIONS REACHED LIMIT.\n",
      "\n",
      "Increase the number of iterations (max_iter) or scale the data as shown in:\n",
      "    https://scikit-learn.org/stable/modules/preprocessing.html\n",
      "Please also refer to the documentation for alternative solver options:\n",
      "    https://scikit-learn.org/stable/modules/linear_model.html#logistic-regression\n",
      "  n_iter_i = _check_optimize_result(\n",
      "/home/mayhem/.cache/pypoetry/virtualenvs/src-Hh50LVj2-py3.10/lib/python3.10/site-packages/sklearn/linear_model/_logistic.py:460: ConvergenceWarning: lbfgs failed to converge (status=1):\n",
      "STOP: TOTAL NO. of ITERATIONS REACHED LIMIT.\n",
      "\n",
      "Increase the number of iterations (max_iter) or scale the data as shown in:\n",
      "    https://scikit-learn.org/stable/modules/preprocessing.html\n",
      "Please also refer to the documentation for alternative solver options:\n",
      "    https://scikit-learn.org/stable/modules/linear_model.html#logistic-regression\n",
      "  n_iter_i = _check_optimize_result(\n",
      "/home/mayhem/.cache/pypoetry/virtualenvs/src-Hh50LVj2-py3.10/lib/python3.10/site-packages/sklearn/linear_model/_logistic.py:460: ConvergenceWarning: lbfgs failed to converge (status=1):\n",
      "STOP: TOTAL NO. of ITERATIONS REACHED LIMIT.\n",
      "\n",
      "Increase the number of iterations (max_iter) or scale the data as shown in:\n",
      "    https://scikit-learn.org/stable/modules/preprocessing.html\n",
      "Please also refer to the documentation for alternative solver options:\n",
      "    https://scikit-learn.org/stable/modules/linear_model.html#logistic-regression\n",
      "  n_iter_i = _check_optimize_result(\n",
      "/home/mayhem/.cache/pypoetry/virtualenvs/src-Hh50LVj2-py3.10/lib/python3.10/site-packages/sklearn/linear_model/_logistic.py:460: ConvergenceWarning: lbfgs failed to converge (status=1):\n",
      "STOP: TOTAL NO. of ITERATIONS REACHED LIMIT.\n",
      "\n",
      "Increase the number of iterations (max_iter) or scale the data as shown in:\n",
      "    https://scikit-learn.org/stable/modules/preprocessing.html\n",
      "Please also refer to the documentation for alternative solver options:\n",
      "    https://scikit-learn.org/stable/modules/linear_model.html#logistic-regression\n",
      "  n_iter_i = _check_optimize_result(\n",
      "/home/mayhem/.cache/pypoetry/virtualenvs/src-Hh50LVj2-py3.10/lib/python3.10/site-packages/sklearn/linear_model/_logistic.py:460: ConvergenceWarning: lbfgs failed to converge (status=1):\n",
      "STOP: TOTAL NO. of ITERATIONS REACHED LIMIT.\n",
      "\n",
      "Increase the number of iterations (max_iter) or scale the data as shown in:\n",
      "    https://scikit-learn.org/stable/modules/preprocessing.html\n",
      "Please also refer to the documentation for alternative solver options:\n",
      "    https://scikit-learn.org/stable/modules/linear_model.html#logistic-regression\n",
      "  n_iter_i = _check_optimize_result(\n"
     ]
    }
   ],
   "source": [
    "lrc = LogisticRegression(random_state=42)\n",
    "\n",
    "cv_list_lr_baseline = cross_val_score(\n",
    "    \n",
    "    lrc,\n",
    "    x_train,\n",
    "    y_train,\n",
    "    cv=10,\n",
    "    scoring=\"balanced_accuracy\" \n",
    ")"
   ]
  },
  {
   "cell_type": "code",
   "execution_count": 28,
   "metadata": {
    "id": "OSuNhAcX3aVG"
   },
   "outputs": [
    {
     "name": "stdout",
     "output_type": "stream",
     "text": [
      "Performance (bac): 0.9201 +- 0.046\n"
     ]
    }
   ],
   "source": [
    "mean_cv_lr_baseline = np.mean(cv_list_lr_baseline)\n",
    "std_cv_lr_baseline = np.std(cv_list_lr_baseline)\n",
    "\n",
    "print(f\"Performance (bac): {round(mean_cv_lr_baseline, 4)} +- {round(std_cv_lr_baseline, 4)}\")"
   ]
  },
  {
   "cell_type": "markdown",
   "metadata": {
    "id": "xL43SL9wdx4p"
   },
   "source": [
    "## Modelagem"
   ]
  },
  {
   "cell_type": "code",
   "execution_count": 29,
   "metadata": {
    "id": "OjhBAMI-0af4"
   },
   "outputs": [
    {
     "name": "stdout",
     "output_type": "stream",
     "text": [
      "Performance (bac): 0.9703 +- 0.0377\n"
     ]
    }
   ],
   "source": [
    "knn = Pipeline(\n",
    "    \n",
    "    [\n",
    "        ('mms', MinMaxScaler()),\n",
    "        ('skb', SelectKBest(chi2, k=10)),\n",
    "        ('knn', KNeighborsClassifier(\n",
    "            n_neighbors=3,\n",
    "            p=2,\n",
    "            weights=\"uniform\",\n",
    "        ))\n",
    "    ]\n",
    ")\n",
    "\n",
    "cv_list_knn_euclid = cross_val_score(\n",
    "    \n",
    "    knn,\n",
    "    x_train,\n",
    "    y_train,\n",
    "    cv=10,\n",
    "    scoring=\"balanced_accuracy\" \n",
    ")\n",
    "\n",
    "mean_cv_knn_euclid = np.mean(cv_list_knn_euclid)\n",
    "std_cv_knn_euclid = np.std(cv_list_knn_euclid)\n",
    "\n",
    "print(f\"Performance (bac): {round(mean_cv_knn_euclid, 4)} +- {round(std_cv_knn_euclid, 4)}\")"
   ]
  },
  {
   "cell_type": "code",
   "execution_count": null,
   "metadata": {
    "id": "F3hQoC_e8S7a"
   },
   "outputs": [],
   "source": [
    "#"
   ]
  },
  {
   "cell_type": "code",
   "execution_count": null,
   "metadata": {
    "id": "F_9FJ_Qa3EuV"
   },
   "outputs": [],
   "source": [
    "#"
   ]
  },
  {
   "cell_type": "code",
   "execution_count": null,
   "metadata": {
    "id": "PwpHBM1O5SPU"
   },
   "outputs": [],
   "source": [
    "#"
   ]
  },
  {
   "cell_type": "code",
   "execution_count": null,
   "metadata": {
    "id": "_hayVU6E6Vwa"
   },
   "outputs": [],
   "source": [
    "#"
   ]
  },
  {
   "cell_type": "markdown",
   "metadata": {
    "id": "LD1Qsbt8d3VN"
   },
   "source": [
    "## Avaliação Experimental"
   ]
  },
  {
   "cell_type": "code",
   "execution_count": null,
   "metadata": {
    "id": "04m6J0Ik7I0O"
   },
   "outputs": [],
   "source": [
    "# resultados da cross-validacao\n"
   ]
  },
  {
   "cell_type": "code",
   "execution_count": null,
   "metadata": {
    "id": "Zihz06QXGL5s"
   },
   "outputs": [],
   "source": [
    "#"
   ]
  },
  {
   "cell_type": "code",
   "execution_count": null,
   "metadata": {
    "id": "OcwnFU2jITF8"
   },
   "outputs": [],
   "source": [
    "#"
   ]
  },
  {
   "cell_type": "code",
   "execution_count": null,
   "metadata": {
    "id": "dlLFP54VMme3"
   },
   "outputs": [],
   "source": [
    "#"
   ]
  },
  {
   "cell_type": "markdown",
   "metadata": {
    "id": "BnBTMOvdNzhG"
   },
   "source": [
    "## Vamos avaliar a performance final do nosso modelo"
   ]
  },
  {
   "cell_type": "code",
   "execution_count": null,
   "metadata": {
    "id": "Tm8433PPLXBP"
   },
   "outputs": [],
   "source": [
    "# retreinar o pipeline selecionado com todos os dados de treinamento\n"
   ]
  },
  {
   "cell_type": "code",
   "execution_count": null,
   "metadata": {
    "id": "G0BW5wyG-58r"
   },
   "outputs": [],
   "source": [
    "# Confusion matrix\n"
   ]
  },
  {
   "cell_type": "code",
   "execution_count": null,
   "metadata": {
    "id": "CNUu_qpM_-hn"
   },
   "outputs": [],
   "source": [
    "#"
   ]
  },
  {
   "cell_type": "markdown",
   "metadata": {
    "id": "fI2rqDRgD50s"
   },
   "source": [
    "## Referências & Links\n",
    "\n"
   ]
  },
  {
   "cell_type": "markdown",
   "metadata": {
    "id": "Z3Gx27YFEo6c"
   },
   "source": [
    "1. [The Cancer Genome Atlas Program](https://www.cancer.gov/about-nci/organization/ccg/research/structural-genomics/tcga)\n",
    "2. [Micro RNA](https://en.wikipedia.org/wiki/MicroRNA_sequencing)\n",
    "3. [Sklearn Pipeline](https://scikit-learn.org/stable/modules/generated/sklearn.pipeline.Pipeline.html)\n"
   ]
  }
 ],
 "metadata": {
  "colab": {
   "provenance": []
  },
  "kernelspec": {
   "display_name": "Python 3 (ipykernel)",
   "language": "python",
   "name": "python3"
  },
  "language_info": {
   "codemirror_mode": {
    "name": "ipython",
    "version": 3
   },
   "file_extension": ".py",
   "mimetype": "text/x-python",
   "name": "python",
   "nbconvert_exporter": "python",
   "pygments_lexer": "ipython3",
   "version": "3.10.11"
  }
 },
 "nbformat": 4,
 "nbformat_minor": 4
}
